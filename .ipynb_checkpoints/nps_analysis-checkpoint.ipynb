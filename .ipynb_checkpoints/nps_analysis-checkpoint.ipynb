{
 "cells": [
  {
   "cell_type": "markdown",
   "metadata": {},
   "source": [
    "# Case de Telemedicina e Data Science - Estudo NPS\n",
    "Este notebook tem o objetivo de analisar a base de clientes e propor ações para aumentar o tempo que o usuário permanece sendo assinante do serviço.\n",
    "\n",
    "## Ideias\n",
    "- NPS por canal \n",
    "- Análise cohort\n",
    "- Sazonalidade de consultas em cada canal\n",
    "- Modelar algoritmo de sobrevivencia para prever o tempo de aderencia de um usuario\n",
    "- Criar algoritmo baseado na idade, cidade e genero para recomendar canal de consulta\n",
    "\n",
    "## Hipóteses\n",
    "- A primeira impressão é a que fica: NPS de usuarios que fizeram apenas uma consulta é menor"
   ]
  },
  {
   "cell_type": "markdown",
   "metadata": {},
   "source": [
    "## Base de dados"
   ]
  },
  {
   "cell_type": "code",
   "execution_count": 1,
   "metadata": {},
   "outputs": [],
   "source": [
    "import pandas as pd\n",
    "import numpy as np"
   ]
  },
  {
   "cell_type": "code",
   "execution_count": 2,
   "metadata": {},
   "outputs": [
    {
     "name": "stderr",
     "output_type": "stream",
     "text": [
      "/Users/victordesanunes/anaconda3/lib/python3.7/site-packages/ipykernel_launcher.py:1: FutureWarning: The pandas.datetime class is deprecated and will be removed from pandas in a future version. Import from datetime module instead.\n",
      "  \"\"\"Entry point for launching an IPython kernel.\n"
     ]
    },
    {
     "data": {
      "text/html": [
       "<div>\n",
       "<style scoped>\n",
       "    .dataframe tbody tr th:only-of-type {\n",
       "        vertical-align: middle;\n",
       "    }\n",
       "\n",
       "    .dataframe tbody tr th {\n",
       "        vertical-align: top;\n",
       "    }\n",
       "\n",
       "    .dataframe thead th {\n",
       "        text-align: right;\n",
       "    }\n",
       "</style>\n",
       "<table border=\"1\" class=\"dataframe\">\n",
       "  <thead>\n",
       "    <tr style=\"text-align: right;\">\n",
       "      <th></th>\n",
       "      <th>appt_id</th>\n",
       "      <th>user_id</th>\n",
       "      <th>appointment_date</th>\n",
       "      <th>channel</th>\n",
       "      <th>type</th>\n",
       "    </tr>\n",
       "  </thead>\n",
       "  <tbody>\n",
       "    <tr>\n",
       "      <th>0</th>\n",
       "      <td>1</td>\n",
       "      <td>1</td>\n",
       "      <td>2010-08-10</td>\n",
       "      <td>chat</td>\n",
       "      <td>first</td>\n",
       "    </tr>\n",
       "    <tr>\n",
       "      <th>1</th>\n",
       "      <td>2</td>\n",
       "      <td>1</td>\n",
       "      <td>2010-10-29</td>\n",
       "      <td>chat</td>\n",
       "      <td>regular</td>\n",
       "    </tr>\n",
       "    <tr>\n",
       "      <th>2</th>\n",
       "      <td>3</td>\n",
       "      <td>2</td>\n",
       "      <td>2011-06-18</td>\n",
       "      <td>presential</td>\n",
       "      <td>first</td>\n",
       "    </tr>\n",
       "    <tr>\n",
       "      <th>3</th>\n",
       "      <td>4</td>\n",
       "      <td>2</td>\n",
       "      <td>2011-10-24</td>\n",
       "      <td>chat</td>\n",
       "      <td>regular</td>\n",
       "    </tr>\n",
       "    <tr>\n",
       "      <th>4</th>\n",
       "      <td>5</td>\n",
       "      <td>2</td>\n",
       "      <td>2011-12-29</td>\n",
       "      <td>chat</td>\n",
       "      <td>regular</td>\n",
       "    </tr>\n",
       "  </tbody>\n",
       "</table>\n",
       "</div>"
      ],
      "text/plain": [
       "   appt_id  user_id appointment_date     channel     type\n",
       "0        1        1       2010-08-10        chat    first\n",
       "1        2        1       2010-10-29        chat  regular\n",
       "2        3        2       2011-06-18  presential    first\n",
       "3        4        2       2011-10-24        chat  regular\n",
       "4        5        2       2011-12-29        chat  regular"
      ]
     },
     "execution_count": 2,
     "metadata": {},
     "output_type": "execute_result"
    }
   ],
   "source": [
    "dateparse = lambda x: pd.datetime.strptime(x, '%d/%m/%y')\n",
    "appointments = pd.read_csv('dataset/appointments.csv'\n",
    "                           ,parse_dates = ['appointment_date']\n",
    "                           ,date_parser = dateparse)\n",
    "appointments.head()"
   ]
  },
  {
   "cell_type": "code",
   "execution_count": 3,
   "metadata": {},
   "outputs": [
    {
     "name": "stdout",
     "output_type": "stream",
     "text": [
      "<class 'pandas.core.frame.DataFrame'>\n",
      "RangeIndex: 2690 entries, 0 to 2689\n",
      "Data columns (total 5 columns):\n",
      " #   Column            Non-Null Count  Dtype         \n",
      "---  ------            --------------  -----         \n",
      " 0   appt_id           2690 non-null   int64         \n",
      " 1   user_id           2690 non-null   int64         \n",
      " 2   appointment_date  2690 non-null   datetime64[ns]\n",
      " 3   channel           2690 non-null   object        \n",
      " 4   type              2690 non-null   object        \n",
      "dtypes: datetime64[ns](1), int64(2), object(2)\n",
      "memory usage: 105.2+ KB\n"
     ]
    }
   ],
   "source": [
    "appointments.info()"
   ]
  },
  {
   "cell_type": "code",
   "execution_count": 4,
   "metadata": {},
   "outputs": [
    {
     "name": "stderr",
     "output_type": "stream",
     "text": [
      "/Users/victordesanunes/anaconda3/lib/python3.7/site-packages/ipykernel_launcher.py:1: FutureWarning: The pandas.datetime class is deprecated and will be removed from pandas in a future version. Import from datetime module instead.\n",
      "  \"\"\"Entry point for launching an IPython kernel.\n"
     ]
    },
    {
     "data": {
      "text/html": [
       "<div>\n",
       "<style scoped>\n",
       "    .dataframe tbody tr th:only-of-type {\n",
       "        vertical-align: middle;\n",
       "    }\n",
       "\n",
       "    .dataframe tbody tr th {\n",
       "        vertical-align: top;\n",
       "    }\n",
       "\n",
       "    .dataframe thead th {\n",
       "        text-align: right;\n",
       "    }\n",
       "</style>\n",
       "<table border=\"1\" class=\"dataframe\">\n",
       "  <thead>\n",
       "    <tr style=\"text-align: right;\">\n",
       "      <th></th>\n",
       "      <th>user_id</th>\n",
       "      <th>gender</th>\n",
       "      <th>birth_date</th>\n",
       "      <th>start_date</th>\n",
       "      <th>end_date</th>\n",
       "      <th>city_code</th>\n",
       "    </tr>\n",
       "  </thead>\n",
       "  <tbody>\n",
       "    <tr>\n",
       "      <th>0</th>\n",
       "      <td>1</td>\n",
       "      <td>female</td>\n",
       "      <td>1981-07-07</td>\n",
       "      <td>2010-06-29</td>\n",
       "      <td>2010-11-02</td>\n",
       "      <td>3</td>\n",
       "    </tr>\n",
       "    <tr>\n",
       "      <th>1</th>\n",
       "      <td>2</td>\n",
       "      <td>male</td>\n",
       "      <td>1996-10-08</td>\n",
       "      <td>2011-01-18</td>\n",
       "      <td>2012-02-18</td>\n",
       "      <td>1</td>\n",
       "    </tr>\n",
       "    <tr>\n",
       "      <th>2</th>\n",
       "      <td>3</td>\n",
       "      <td>female</td>\n",
       "      <td>1986-06-03</td>\n",
       "      <td>2010-01-13</td>\n",
       "      <td>2010-09-12</td>\n",
       "      <td>3</td>\n",
       "    </tr>\n",
       "    <tr>\n",
       "      <th>3</th>\n",
       "      <td>4</td>\n",
       "      <td>male</td>\n",
       "      <td>1992-07-28</td>\n",
       "      <td>2010-11-19</td>\n",
       "      <td>2012-08-01</td>\n",
       "      <td>3</td>\n",
       "    </tr>\n",
       "    <tr>\n",
       "      <th>4</th>\n",
       "      <td>5</td>\n",
       "      <td>male</td>\n",
       "      <td>1981-04-21</td>\n",
       "      <td>2011-08-27</td>\n",
       "      <td>2011-12-11</td>\n",
       "      <td>2</td>\n",
       "    </tr>\n",
       "  </tbody>\n",
       "</table>\n",
       "</div>"
      ],
      "text/plain": [
       "   user_id  gender birth_date start_date   end_date  city_code\n",
       "0        1  female 1981-07-07 2010-06-29 2010-11-02          3\n",
       "1        2    male 1996-10-08 2011-01-18 2012-02-18          1\n",
       "2        3  female 1986-06-03 2010-01-13 2010-09-12          3\n",
       "3        4    male 1992-07-28 2010-11-19 2012-08-01          3\n",
       "4        5    male 1981-04-21 2011-08-27 2011-12-11          2"
      ]
     },
     "execution_count": 4,
     "metadata": {},
     "output_type": "execute_result"
    }
   ],
   "source": [
    "users = pd.read_csv('dataset/users.csv'\n",
    "                           ,parse_dates = ['birth_date', 'start_date', 'end_date']\n",
    "                           ,date_parser = dateparse)\n",
    "users.head()"
   ]
  },
  {
   "cell_type": "code",
   "execution_count": 5,
   "metadata": {},
   "outputs": [
    {
     "name": "stdout",
     "output_type": "stream",
     "text": [
      "<class 'pandas.core.frame.DataFrame'>\n",
      "RangeIndex: 463 entries, 0 to 462\n",
      "Data columns (total 6 columns):\n",
      " #   Column      Non-Null Count  Dtype         \n",
      "---  ------      --------------  -----         \n",
      " 0   user_id     463 non-null    int64         \n",
      " 1   gender      463 non-null    object        \n",
      " 2   birth_date  463 non-null    datetime64[ns]\n",
      " 3   start_date  463 non-null    datetime64[ns]\n",
      " 4   end_date    463 non-null    datetime64[ns]\n",
      " 5   city_code   463 non-null    int64         \n",
      "dtypes: datetime64[ns](3), int64(2), object(1)\n",
      "memory usage: 21.8+ KB\n"
     ]
    }
   ],
   "source": [
    "users.info()"
   ]
  },
  {
   "cell_type": "code",
   "execution_count": 6,
   "metadata": {},
   "outputs": [
    {
     "data": {
      "text/html": [
       "<div>\n",
       "<style scoped>\n",
       "    .dataframe tbody tr th:only-of-type {\n",
       "        vertical-align: middle;\n",
       "    }\n",
       "\n",
       "    .dataframe tbody tr th {\n",
       "        vertical-align: top;\n",
       "    }\n",
       "\n",
       "    .dataframe thead th {\n",
       "        text-align: right;\n",
       "    }\n",
       "</style>\n",
       "<table border=\"1\" class=\"dataframe\">\n",
       "  <thead>\n",
       "    <tr style=\"text-align: right;\">\n",
       "      <th></th>\n",
       "      <th>user_id</th>\n",
       "      <th>nps</th>\n",
       "    </tr>\n",
       "  </thead>\n",
       "  <tbody>\n",
       "    <tr>\n",
       "      <th>0</th>\n",
       "      <td>1</td>\n",
       "      <td>9</td>\n",
       "    </tr>\n",
       "    <tr>\n",
       "      <th>1</th>\n",
       "      <td>2</td>\n",
       "      <td>5</td>\n",
       "    </tr>\n",
       "    <tr>\n",
       "      <th>2</th>\n",
       "      <td>3</td>\n",
       "      <td>5</td>\n",
       "    </tr>\n",
       "    <tr>\n",
       "      <th>3</th>\n",
       "      <td>4</td>\n",
       "      <td>10</td>\n",
       "    </tr>\n",
       "    <tr>\n",
       "      <th>4</th>\n",
       "      <td>5</td>\n",
       "      <td>8</td>\n",
       "    </tr>\n",
       "  </tbody>\n",
       "</table>\n",
       "</div>"
      ],
      "text/plain": [
       "   user_id  nps\n",
       "0        1    9\n",
       "1        2    5\n",
       "2        3    5\n",
       "3        4   10\n",
       "4        5    8"
      ]
     },
     "execution_count": 6,
     "metadata": {},
     "output_type": "execute_result"
    }
   ],
   "source": [
    "nps = pd.read_csv('dataset/nps.csv')\n",
    "nps.head()"
   ]
  },
  {
   "cell_type": "code",
   "execution_count": 7,
   "metadata": {},
   "outputs": [
    {
     "name": "stdout",
     "output_type": "stream",
     "text": [
      "<class 'pandas.core.frame.DataFrame'>\n",
      "RangeIndex: 463 entries, 0 to 462\n",
      "Data columns (total 2 columns):\n",
      " #   Column   Non-Null Count  Dtype\n",
      "---  ------   --------------  -----\n",
      " 0   user_id  463 non-null    int64\n",
      " 1   nps      463 non-null    int64\n",
      "dtypes: int64(2)\n",
      "memory usage: 7.4 KB\n"
     ]
    }
   ],
   "source": [
    "nps.info()"
   ]
  },
  {
   "cell_type": "markdown",
   "metadata": {},
   "source": [
    "## NPS\n",
    "Cálculo do NPS geral da Cuidas. \n",
    "O NPS é a nota referente a ultima consulta do usuario. Portanto vamos separa os dados da ultima consulta de cada usuario em um dataframe"
   ]
  },
  {
   "cell_type": "code",
   "execution_count": 8,
   "metadata": {},
   "outputs": [
    {
     "data": {
      "text/html": [
       "<div>\n",
       "<style scoped>\n",
       "    .dataframe tbody tr th:only-of-type {\n",
       "        vertical-align: middle;\n",
       "    }\n",
       "\n",
       "    .dataframe tbody tr th {\n",
       "        vertical-align: top;\n",
       "    }\n",
       "\n",
       "    .dataframe thead th {\n",
       "        text-align: right;\n",
       "    }\n",
       "</style>\n",
       "<table border=\"1\" class=\"dataframe\">\n",
       "  <thead>\n",
       "    <tr style=\"text-align: right;\">\n",
       "      <th></th>\n",
       "      <th>appt_id</th>\n",
       "      <th>user_id</th>\n",
       "      <th>appointment_date</th>\n",
       "      <th>channel</th>\n",
       "      <th>type</th>\n",
       "      <th>nps</th>\n",
       "    </tr>\n",
       "  </thead>\n",
       "  <tbody>\n",
       "    <tr>\n",
       "      <th>0</th>\n",
       "      <td>2</td>\n",
       "      <td>1</td>\n",
       "      <td>2010-10-29</td>\n",
       "      <td>chat</td>\n",
       "      <td>regular</td>\n",
       "      <td>9</td>\n",
       "    </tr>\n",
       "    <tr>\n",
       "      <th>1</th>\n",
       "      <td>9</td>\n",
       "      <td>2</td>\n",
       "      <td>2011-07-06</td>\n",
       "      <td>presential</td>\n",
       "      <td>regular</td>\n",
       "      <td>5</td>\n",
       "    </tr>\n",
       "    <tr>\n",
       "      <th>2</th>\n",
       "      <td>13</td>\n",
       "      <td>3</td>\n",
       "      <td>2010-04-07</td>\n",
       "      <td>chat</td>\n",
       "      <td>regular</td>\n",
       "      <td>5</td>\n",
       "    </tr>\n",
       "    <tr>\n",
       "      <th>3</th>\n",
       "      <td>21</td>\n",
       "      <td>4</td>\n",
       "      <td>2011-11-17</td>\n",
       "      <td>presential</td>\n",
       "      <td>regular</td>\n",
       "      <td>10</td>\n",
       "    </tr>\n",
       "    <tr>\n",
       "      <th>4</th>\n",
       "      <td>22</td>\n",
       "      <td>5</td>\n",
       "      <td>2011-11-10</td>\n",
       "      <td>chat</td>\n",
       "      <td>first</td>\n",
       "      <td>8</td>\n",
       "    </tr>\n",
       "    <tr>\n",
       "      <th>5</th>\n",
       "      <td>28</td>\n",
       "      <td>6</td>\n",
       "      <td>2011-07-12</td>\n",
       "      <td>chat</td>\n",
       "      <td>regular</td>\n",
       "      <td>2</td>\n",
       "    </tr>\n",
       "    <tr>\n",
       "      <th>6</th>\n",
       "      <td>30</td>\n",
       "      <td>7</td>\n",
       "      <td>2010-10-10</td>\n",
       "      <td>chat</td>\n",
       "      <td>regular</td>\n",
       "      <td>4</td>\n",
       "    </tr>\n",
       "    <tr>\n",
       "      <th>7</th>\n",
       "      <td>39</td>\n",
       "      <td>8</td>\n",
       "      <td>2011-11-21</td>\n",
       "      <td>chat</td>\n",
       "      <td>regular</td>\n",
       "      <td>9</td>\n",
       "    </tr>\n",
       "    <tr>\n",
       "      <th>8</th>\n",
       "      <td>40</td>\n",
       "      <td>9</td>\n",
       "      <td>2011-10-24</td>\n",
       "      <td>presential</td>\n",
       "      <td>first</td>\n",
       "      <td>7</td>\n",
       "    </tr>\n",
       "    <tr>\n",
       "      <th>9</th>\n",
       "      <td>49</td>\n",
       "      <td>10</td>\n",
       "      <td>2012-02-21</td>\n",
       "      <td>chat</td>\n",
       "      <td>regular</td>\n",
       "      <td>3</td>\n",
       "    </tr>\n",
       "  </tbody>\n",
       "</table>\n",
       "</div>"
      ],
      "text/plain": [
       "   appt_id  user_id appointment_date     channel     type  nps\n",
       "0        2        1       2010-10-29        chat  regular    9\n",
       "1        9        2       2011-07-06  presential  regular    5\n",
       "2       13        3       2010-04-07        chat  regular    5\n",
       "3       21        4       2011-11-17  presential  regular   10\n",
       "4       22        5       2011-11-10        chat    first    8\n",
       "5       28        6       2011-07-12        chat  regular    2\n",
       "6       30        7       2010-10-10        chat  regular    4\n",
       "7       39        8       2011-11-21        chat  regular    9\n",
       "8       40        9       2011-10-24  presential    first    7\n",
       "9       49       10       2012-02-21        chat  regular    3"
      ]
     },
     "execution_count": 8,
     "metadata": {},
     "output_type": "execute_result"
    }
   ],
   "source": [
    "last_appointment_ids = appointments.groupby(by='user_id').agg({'appt_id': 'max'})['appt_id'].tolist()\n",
    "last_appointment = appointments[appointments['appt_id'].isin(last_appointment_ids)]\n",
    "last_appointment_and_nps = last_appointment.merge(nps)\n",
    "# last_appointment_and_nps.sort_values(by = 'appointment_date', inplace = True)\n",
    "last_appointment_and_nps.head(10)"
   ]
  },
  {
   "cell_type": "code",
   "execution_count": 9,
   "metadata": {},
   "outputs": [
    {
     "data": {
      "text/plain": [
       "-14.038876889848812"
      ]
     },
     "execution_count": 9,
     "metadata": {},
     "output_type": "execute_result"
    }
   ],
   "source": [
    "nps_scores = last_appointment_and_nps['nps'].tolist()\n",
    "def calculate_nps(nps_scores):  \n",
    "    valid_scores = [v for v in nps_scores if v >= 0 and v <= 10]\n",
    "    promoters = [s for s in valid_scores if s >=9 and s <= 10]\n",
    "    detractors = [s for s in valid_scores if s >= 0 and s <= 6]\n",
    "    nps_score = (float(len(promoters) - len(detractors)) / len (valid_scores)) * 100.0\n",
    "    return nps_score, detractors, promoters\n",
    "\n",
    "cuidas_nps, detractors, promoters = calculate_nps(nps_scores)\n",
    "cuidas_nps"
   ]
  },
  {
   "cell_type": "markdown",
   "metadata": {},
   "source": [
    "**Margem de erro**: assumindo que a nota média de NPS da cuidas é de 6\n",
    "\n",
    "- [referencia](https://www.statisticshowto.com/probability-and-statistics/hypothesis-testing/margin-of-error/)\n",
    "- [calculando t score](https://towardsdatascience.com/inferential-statistics-series-t-test-using-numpy-2718f8f9bf2f)"
   ]
  },
  {
   "cell_type": "code",
   "execution_count": 10,
   "metadata": {},
   "outputs": [
    {
     "data": {
      "text/plain": [
       "3.8869838153218392"
      ]
     },
     "execution_count": 10,
     "metadata": {},
     "output_type": "execute_result"
    }
   ],
   "source": [
    "# margem de erro\n",
    "sample_std = np.std(nps_scores)\n",
    "population_mean = 6.0\n",
    "sample_mean = np.mean(nps_scores)\n",
    "sample_size = len(nps_scores)\n",
    "t_score = (sample_mean - population_mean)/(sample_std/np.sqrt(sample_size))\n",
    "t_score"
   ]
  },
  {
   "cell_type": "code",
   "execution_count": 11,
   "metadata": {},
   "outputs": [
    {
     "data": {
      "text/plain": [
       "10.2242670714838"
      ]
     },
     "execution_count": 11,
     "metadata": {},
     "output_type": "execute_result"
    }
   ],
   "source": [
    "margin_of_error = t_score * sample_std\n",
    "margin_of_error"
   ]
  },
  {
   "cell_type": "markdown",
   "metadata": {},
   "source": [
    "Como o NPS da Cuidas está muito baixo, iremos entender melhor quais canais de antendimento precisam melhorar"
   ]
  },
  {
   "cell_type": "code",
   "execution_count": 12,
   "metadata": {},
   "outputs": [
    {
     "data": {
      "image/png": "[encoded data removed]",
      "text/plain": [
       "<Figure size 720x72 with 1 Axes>"
      ]
     },
     "metadata": {
      "needs_background": "light"
     },
     "output_type": "display_data"
    }
   ],
   "source": [
    "import seaborn as sns\n",
    "sns.palplot(sns.color_palette(\"coolwarm\", 10))"
   ]
  },
  {
   "cell_type": "code",
   "execution_count": 13,
   "metadata": {},
   "outputs": [
    {
     "data": {
      "image/png": "[encoded data removed]",
      "text/plain": [
       "<Figure size 432x288 with 1 Axes>"
      ]
     },
     "metadata": {},
     "output_type": "display_data"
    }
   ],
   "source": [
    "sns.set(style=\"darkgrid\")\n",
    "# sns.set_palette(palette = sns.color_palette(\"coolwarm\", 7))\n",
    "sns.despine()\n",
    "ax = sns.countplot(x=\"nps\", data=last_appointment_and_nps, palette = sns.color_palette(\"coolwarm\", 2))"
   ]
  },
  {
   "cell_type": "code",
   "execution_count": 14,
   "metadata": {},
   "outputs": [
    {
     "name": "stdout",
     "output_type": "stream",
     "text": [
      "Nota media dos promoteres: 9.383233532934131\n",
      "Nota media dos detratores: 4.012931034482759\n"
     ]
    }
   ],
   "source": [
    "import numpy as np\n",
    "print('Nota media dos promoteres: ' + str(np.mean(promoters)))\n",
    "print('Nota media dos detratores: ' + str(np.mean(detractors)))"
   ]
  },
  {
   "cell_type": "markdown",
   "metadata": {},
   "source": [
    "## NPS por canal\n",
    "\n",
    "Vamos analisar os NPS de cada canal de atendimento"
   ]
  },
  {
   "cell_type": "code",
   "execution_count": 15,
   "metadata": {},
   "outputs": [],
   "source": [
    "chat_channel = last_appointment_and_nps.query('channel == \"chat\"')\n",
    "presential_channel = last_appointment_and_nps.query('channel == \"presential\"')"
   ]
  },
  {
   "cell_type": "code",
   "execution_count": 16,
   "metadata": {},
   "outputs": [
    {
     "data": {
      "text/plain": [
       "-15.223880597014924"
      ]
     },
     "execution_count": 16,
     "metadata": {},
     "output_type": "execute_result"
    }
   ],
   "source": [
    "nps_scores = chat_channel['nps'].tolist()\n",
    "chat_nps, detractor, promoters = calculate_nps(nps_scores)\n",
    "chat_nps"
   ]
  },
  {
   "cell_type": "code",
   "execution_count": 17,
   "metadata": {},
   "outputs": [
    {
     "data": {
      "text/plain": [
       "-10.9375"
      ]
     },
     "execution_count": 17,
     "metadata": {},
     "output_type": "execute_result"
    }
   ],
   "source": [
    "nps_scores = presential_channel['nps'].tolist()\n",
    "presential, detractor, promoters = calculate_nps(nps_scores)\n",
    "presential"
   ]
  },
  {
   "cell_type": "markdown",
   "metadata": {},
   "source": [
    "># 💡O atendimento pelo chat está com NPS baixo\n",
    "\n",
    "Porém em quais regiões o atendimento presencial é melhor?"
   ]
  },
  {
   "cell_type": "markdown",
   "metadata": {},
   "source": [
    "## NPS de pessoas que tiveram apenas uma impresssao da empresa\n",
    "\n",
    "Vamos analisar os usuarios que tiveram atendimento por apenas um canal ao longo de todo o seu histórico"
   ]
  },
  {
   "cell_type": "code",
   "execution_count": 18,
   "metadata": {},
   "outputs": [
    {
     "data": {
      "text/html": [
       "<div>\n",
       "<style scoped>\n",
       "    .dataframe tbody tr th:only-of-type {\n",
       "        vertical-align: middle;\n",
       "    }\n",
       "\n",
       "    .dataframe tbody tr th {\n",
       "        vertical-align: top;\n",
       "    }\n",
       "\n",
       "    .dataframe thead th {\n",
       "        text-align: right;\n",
       "    }\n",
       "</style>\n",
       "<table border=\"1\" class=\"dataframe\">\n",
       "  <thead>\n",
       "    <tr style=\"text-align: right;\">\n",
       "      <th></th>\n",
       "      <th>total_appt</th>\n",
       "      <th>total_type</th>\n",
       "      <th>nps</th>\n",
       "      <th>total_channel</th>\n",
       "    </tr>\n",
       "    <tr>\n",
       "      <th>user_id</th>\n",
       "      <th></th>\n",
       "      <th></th>\n",
       "      <th></th>\n",
       "      <th></th>\n",
       "    </tr>\n",
       "  </thead>\n",
       "  <tbody>\n",
       "    <tr>\n",
       "      <th>1</th>\n",
       "      <td>2</td>\n",
       "      <td>2</td>\n",
       "      <td>9</td>\n",
       "      <td>1</td>\n",
       "    </tr>\n",
       "    <tr>\n",
       "      <th>2</th>\n",
       "      <td>7</td>\n",
       "      <td>2</td>\n",
       "      <td>5</td>\n",
       "      <td>2</td>\n",
       "    </tr>\n",
       "    <tr>\n",
       "      <th>3</th>\n",
       "      <td>4</td>\n",
       "      <td>2</td>\n",
       "      <td>5</td>\n",
       "      <td>1</td>\n",
       "    </tr>\n",
       "    <tr>\n",
       "      <th>4</th>\n",
       "      <td>8</td>\n",
       "      <td>2</td>\n",
       "      <td>10</td>\n",
       "      <td>2</td>\n",
       "    </tr>\n",
       "    <tr>\n",
       "      <th>5</th>\n",
       "      <td>1</td>\n",
       "      <td>1</td>\n",
       "      <td>8</td>\n",
       "      <td>1</td>\n",
       "    </tr>\n",
       "  </tbody>\n",
       "</table>\n",
       "</div>"
      ],
      "text/plain": [
       "         total_appt  total_type  nps  total_channel\n",
       "user_id                                            \n",
       "1                 2           2    9              1\n",
       "2                 7           2    5              2\n",
       "3                 4           2    5              1\n",
       "4                 8           2   10              2\n",
       "5                 1           1    8              1"
      ]
     },
     "execution_count": 18,
     "metadata": {},
     "output_type": "execute_result"
    }
   ],
   "source": [
    "appointments_user = appointments.merge(nps)[['appt_id', 'user_id', 'channel', 'type', 'nps']]\n",
    "\n",
    "# Calcula estatisticas dos usuarios\n",
    "length = lambda x: len(x.unique())\n",
    "user_stats = appointments_user.groupby(by = ['user_id']).agg({'appt_id': 'count'\n",
    "                                                                ,'type': 'unique'\n",
    "                                                                ,'nps': 'mean'\n",
    "                                                                ,'type': length\n",
    "                                                                ,'channel': length})\\\n",
    "                                                        .rename({'appt_id': 'total_appt'\n",
    "                                                                ,'type': 'total_type'\n",
    "                                                                ,'channel': 'total_channel'}, axis = 1)\n",
    "user_stats.head()"
   ]
  },
  {
   "cell_type": "code",
   "execution_count": 19,
   "metadata": {},
   "outputs": [
    {
     "name": "stdout",
     "output_type": "stream",
     "text": [
      "NPS: -15.168539325842698\n",
      "Nota media dos promoteres: 9.333333333333334\n",
      "Nota media dos detratores: 4.012931034482759\n"
     ]
    }
   ],
   "source": [
    "one_channel_users = user_stats.query('total_channel == 1').index\n",
    "nps_scores = last_appointment_and_nps[last_appointment_and_nps['user_id'].isin(one_channel_users)]['nps'].tolist()\n",
    "one_channel_nps, detractor, promoters = calculate_nps(nps_scores)\n",
    "one_channel_nps\n",
    "print('NPS: ' + str(one_channel_nps))\n",
    "print('Nota media dos promoteres: ' + str(np.mean(promoters)))\n",
    "print('Nota media dos detratores: ' + str(np.mean(detractors)))"
   ]
  },
  {
   "cell_type": "code",
   "execution_count": 20,
   "metadata": {},
   "outputs": [
    {
     "name": "stdout",
     "output_type": "stream",
     "text": [
      "NPS: -13.333333333333334\n",
      "Nota media dos promoteres: 9.413461538461538\n",
      "Nota media dos detratores: 4.012931034482759\n"
     ]
    }
   ],
   "source": [
    "two_channel_users = user_stats.query('total_channel == 2').index\n",
    "nps_scores = last_appointment_and_nps[last_appointment_and_nps['user_id'].isin(two_channel_users)]['nps'].tolist()\n",
    "two_channel_nps, detractor, promoters = calculate_nps(nps_scores)\n",
    "print('NPS: ' + str(two_channel_nps))\n",
    "print('Nota media dos promoteres: ' + str(np.mean(promoters)))\n",
    "print('Nota media dos detratores: ' + str(np.mean(detractors)))"
   ]
  },
  {
   "cell_type": "markdown",
   "metadata": {},
   "source": [
    "># 💡Usuarios que foram atendidos por apenas um canal, tiveram uma experiencia melhor"
   ]
  },
  {
   "cell_type": "markdown",
   "metadata": {},
   "source": [
    "## NPS para usuarios que fizeram apenas uma consulta"
   ]
  },
  {
   "cell_type": "code",
   "execution_count": 21,
   "metadata": {},
   "outputs": [
    {
     "name": "stdout",
     "output_type": "stream",
     "text": [
      "NPS: -13.186813186813188\n",
      "Nota media dos promoteres: 9.242424242424242\n",
      "Nota media dos detratores: 4.012931034482759\n"
     ]
    }
   ],
   "source": [
    "first_appointment = last_appointment_and_nps.query('type == \"first\"')\n",
    "nps_scores = first_appointment['nps'].tolist()\n",
    "first_appointment_nps, detractor, promoters = calculate_nps(nps_scores)\n",
    "print('NPS: ' + str(first_appointment_nps))\n",
    "print('Nota media dos promoteres: ' + str(np.mean(promoters)))\n",
    "print('Nota media dos detratores: ' + str(np.mean(detractors)))"
   ]
  },
  {
   "cell_type": "code",
   "execution_count": 22,
   "metadata": {},
   "outputs": [
    {
     "name": "stdout",
     "output_type": "stream",
     "text": [
      "NPS: -14.24731182795699\n",
      "Nota media dos promoteres: 9.417910447761194\n",
      "Nota media dos detratores: 4.012931034482759\n"
     ]
    }
   ],
   "source": [
    "regular_appointment = last_appointment_and_nps.query('type == \"regular\"')\n",
    "nps_scores = regular_appointment['nps'].tolist()\n",
    "regular_appointment_nps, detractor, promoters = calculate_nps(nps_scores)\n",
    "\n",
    "print('NPS: ' + str(regular_appointment_nps))\n",
    "print('Nota media dos promoteres: ' + str(np.mean(promoters)))\n",
    "print('Nota media dos detratores: ' + str(np.mean(detractors)))"
   ]
  },
  {
   "cell_type": "markdown",
   "metadata": {},
   "source": [
    "## Evolução do NPS ao longo do tempo\n",
    "- Veremos a evolução do NPS para usuarios `first` e `regular`"
   ]
  },
  {
   "cell_type": "code",
   "execution_count": 23,
   "metadata": {},
   "outputs": [
    {
     "name": "stderr",
     "output_type": "stream",
     "text": [
      "/Users/victordesanunes/anaconda3/lib/python3.7/site-packages/pandas/core/indexing.py:844: SettingWithCopyWarning: \n",
      "A value is trying to be set on a copy of a slice from a DataFrame.\n",
      "Try using .loc[row_indexer,col_indexer] = value instead\n",
      "\n",
      "See the caveats in the documentation: https://pandas.pydata.org/pandas-docs/stable/user_guide/indexing.html#returning-a-view-versus-a-copy\n",
      "  self.obj[key] = _infer_fill_value(value)\n",
      "/Users/victordesanunes/anaconda3/lib/python3.7/site-packages/pandas/core/indexing.py:965: SettingWithCopyWarning: \n",
      "A value is trying to be set on a copy of a slice from a DataFrame.\n",
      "Try using .loc[row_indexer,col_indexer] = value instead\n",
      "\n",
      "See the caveats in the documentation: https://pandas.pydata.org/pandas-docs/stable/user_guide/indexing.html#returning-a-view-versus-a-copy\n",
      "  self.obj[item] = s\n"
     ]
    },
    {
     "data": {
      "text/html": [
       "<div>\n",
       "<style scoped>\n",
       "    .dataframe tbody tr th:only-of-type {\n",
       "        vertical-align: middle;\n",
       "    }\n",
       "\n",
       "    .dataframe tbody tr th {\n",
       "        vertical-align: top;\n",
       "    }\n",
       "\n",
       "    .dataframe thead th {\n",
       "        text-align: right;\n",
       "    }\n",
       "</style>\n",
       "<table border=\"1\" class=\"dataframe\">\n",
       "  <thead>\n",
       "    <tr style=\"text-align: right;\">\n",
       "      <th></th>\n",
       "      <th>appt_id</th>\n",
       "      <th>user_id</th>\n",
       "      <th>appointment_date</th>\n",
       "      <th>channel</th>\n",
       "      <th>type</th>\n",
       "      <th>nps</th>\n",
       "      <th>month_year</th>\n",
       "    </tr>\n",
       "  </thead>\n",
       "  <tbody>\n",
       "    <tr>\n",
       "      <th>0</th>\n",
       "      <td>2</td>\n",
       "      <td>1</td>\n",
       "      <td>2010-10-29</td>\n",
       "      <td>chat</td>\n",
       "      <td>regular</td>\n",
       "      <td>9</td>\n",
       "      <td>2010-10</td>\n",
       "    </tr>\n",
       "    <tr>\n",
       "      <th>1</th>\n",
       "      <td>9</td>\n",
       "      <td>2</td>\n",
       "      <td>2011-07-06</td>\n",
       "      <td>presential</td>\n",
       "      <td>regular</td>\n",
       "      <td>5</td>\n",
       "      <td>2011-07</td>\n",
       "    </tr>\n",
       "    <tr>\n",
       "      <th>2</th>\n",
       "      <td>13</td>\n",
       "      <td>3</td>\n",
       "      <td>2010-04-07</td>\n",
       "      <td>chat</td>\n",
       "      <td>regular</td>\n",
       "      <td>5</td>\n",
       "      <td>2010-04</td>\n",
       "    </tr>\n",
       "    <tr>\n",
       "      <th>3</th>\n",
       "      <td>21</td>\n",
       "      <td>4</td>\n",
       "      <td>2011-11-17</td>\n",
       "      <td>presential</td>\n",
       "      <td>regular</td>\n",
       "      <td>10</td>\n",
       "      <td>2011-11</td>\n",
       "    </tr>\n",
       "    <tr>\n",
       "      <th>4</th>\n",
       "      <td>22</td>\n",
       "      <td>5</td>\n",
       "      <td>2011-11-10</td>\n",
       "      <td>chat</td>\n",
       "      <td>first</td>\n",
       "      <td>8</td>\n",
       "      <td>2011-11</td>\n",
       "    </tr>\n",
       "  </tbody>\n",
       "</table>\n",
       "</div>"
      ],
      "text/plain": [
       "   appt_id  user_id appointment_date     channel     type  nps month_year\n",
       "0        2        1       2010-10-29        chat  regular    9    2010-10\n",
       "1        9        2       2011-07-06  presential  regular    5    2011-07\n",
       "2       13        3       2010-04-07        chat  regular    5    2010-04\n",
       "3       21        4       2011-11-17  presential  regular   10    2011-11\n",
       "4       22        5       2011-11-10        chat    first    8    2011-11"
      ]
     },
     "execution_count": 23,
     "metadata": {},
     "output_type": "execute_result"
    }
   ],
   "source": [
    "import datetime as dt\n",
    "last_appointment_and_nps.loc[:,'month_year'] = last_appointment_and_nps[\"appointment_date\"].dt.strftime(\"%Y-%m\")\n",
    "regular_appointment.loc[:,'month_year'] = regular_appointment[\"appointment_date\"].dt.strftime(\"%Y-%m\")\n",
    "first_appointment.loc[:,'month_year'] = first_appointment[\"appointment_date\"].dt.strftime(\"%Y-%m\")\n",
    "\n",
    "last_appointment_and_nps.head()"
   ]
  },
  {
   "cell_type": "code",
   "execution_count": 24,
   "metadata": {},
   "outputs": [],
   "source": [
    "def nps_score_per_period(serie):\n",
    "    valid_scores = [v for v in serie if v >= 0 and v <= 10]\n",
    "    promoters = [s for s in valid_scores if s >= 9 and s <= 10]\n",
    "    detractors = [s for s in valid_scores if s >= 0 and s <= 6]\n",
    "    nps_score = (float(len(promoters) - len(detractors)) / len (valid_scores)) * 100.0\n",
    "    return nps_score"
   ]
  },
  {
   "cell_type": "code",
   "execution_count": 25,
   "metadata": {},
   "outputs": [
    {
     "data": {
      "text/html": [
       "<div>\n",
       "<style scoped>\n",
       "    .dataframe tbody tr th:only-of-type {\n",
       "        vertical-align: middle;\n",
       "    }\n",
       "\n",
       "    .dataframe tbody tr th {\n",
       "        vertical-align: top;\n",
       "    }\n",
       "\n",
       "    .dataframe thead th {\n",
       "        text-align: right;\n",
       "    }\n",
       "</style>\n",
       "<table border=\"1\" class=\"dataframe\">\n",
       "  <thead>\n",
       "    <tr style=\"text-align: right;\">\n",
       "      <th></th>\n",
       "      <th>nps</th>\n",
       "    </tr>\n",
       "    <tr>\n",
       "      <th>month_year</th>\n",
       "      <th></th>\n",
       "    </tr>\n",
       "  </thead>\n",
       "  <tbody>\n",
       "    <tr>\n",
       "      <th>2010-02</th>\n",
       "      <td>0.0</td>\n",
       "    </tr>\n",
       "    <tr>\n",
       "      <th>2010-03</th>\n",
       "      <td>-20.0</td>\n",
       "    </tr>\n",
       "    <tr>\n",
       "      <th>2010-04</th>\n",
       "      <td>0.0</td>\n",
       "    </tr>\n",
       "    <tr>\n",
       "      <th>2010-05</th>\n",
       "      <td>-100.0</td>\n",
       "    </tr>\n",
       "    <tr>\n",
       "      <th>2010-06</th>\n",
       "      <td>0.0</td>\n",
       "    </tr>\n",
       "  </tbody>\n",
       "</table>\n",
       "</div>"
      ],
      "text/plain": [
       "              nps\n",
       "month_year       \n",
       "2010-02       0.0\n",
       "2010-03     -20.0\n",
       "2010-04       0.0\n",
       "2010-05    -100.0\n",
       "2010-06       0.0"
      ]
     },
     "execution_count": 25,
     "metadata": {},
     "output_type": "execute_result"
    }
   ],
   "source": [
    "first_appt_nps_timeseries = first_appointment.groupby(by=['month_year']).agg({'nps': nps_score_per_period})\n",
    "first_appt_nps_timeseries.head()"
   ]
  },
  {
   "cell_type": "code",
   "execution_count": 26,
   "metadata": {},
   "outputs": [
    {
     "data": {
      "text/html": [
       "<div>\n",
       "<style scoped>\n",
       "    .dataframe tbody tr th:only-of-type {\n",
       "        vertical-align: middle;\n",
       "    }\n",
       "\n",
       "    .dataframe tbody tr th {\n",
       "        vertical-align: top;\n",
       "    }\n",
       "\n",
       "    .dataframe thead th {\n",
       "        text-align: right;\n",
       "    }\n",
       "</style>\n",
       "<table border=\"1\" class=\"dataframe\">\n",
       "  <thead>\n",
       "    <tr style=\"text-align: right;\">\n",
       "      <th></th>\n",
       "      <th>nps</th>\n",
       "    </tr>\n",
       "    <tr>\n",
       "      <th>month_year</th>\n",
       "      <th></th>\n",
       "    </tr>\n",
       "  </thead>\n",
       "  <tbody>\n",
       "    <tr>\n",
       "      <th>2010-01</th>\n",
       "      <td>-100.000000</td>\n",
       "    </tr>\n",
       "    <tr>\n",
       "      <th>2010-02</th>\n",
       "      <td>-100.000000</td>\n",
       "    </tr>\n",
       "    <tr>\n",
       "      <th>2010-03</th>\n",
       "      <td>-33.333333</td>\n",
       "    </tr>\n",
       "    <tr>\n",
       "      <th>2010-04</th>\n",
       "      <td>0.000000</td>\n",
       "    </tr>\n",
       "    <tr>\n",
       "      <th>2010-05</th>\n",
       "      <td>-30.000000</td>\n",
       "    </tr>\n",
       "  </tbody>\n",
       "</table>\n",
       "</div>"
      ],
      "text/plain": [
       "                   nps\n",
       "month_year            \n",
       "2010-01    -100.000000\n",
       "2010-02    -100.000000\n",
       "2010-03     -33.333333\n",
       "2010-04       0.000000\n",
       "2010-05     -30.000000"
      ]
     },
     "execution_count": 26,
     "metadata": {},
     "output_type": "execute_result"
    }
   ],
   "source": [
    "regular_appt_nps_timeseries = regular_appointment.groupby(by=['month_year']).agg({'nps': nps_score_per_period})\n",
    "regular_appt_nps_timeseries.head()"
   ]
  },
  {
   "cell_type": "code",
   "execution_count": null,
   "metadata": {},
   "outputs": [],
   "source": []
  },
  {
   "cell_type": "code",
   "execution_count": null,
   "metadata": {},
   "outputs": [],
   "source": []
  }
 ],
 "metadata": {
  "kernelspec": {
   "display_name": "Python 3",
   "language": "python",
   "name": "python3"
  },
  "language_info": {
   "codemirror_mode": {
    "name": "ipython",
    "version": 3
   },
   "file_extension": ".py",
   "mimetype": "text/x-python",
   "name": "python",
   "nbconvert_exporter": "python",
   "pygments_lexer": "ipython3",
   "version": "3.7.6"
  }
 },
 "nbformat": 4,
 "nbformat_minor": 4
}
